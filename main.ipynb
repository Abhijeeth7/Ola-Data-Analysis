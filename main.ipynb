{
 "cells": [
  {
   "metadata": {
    "ExecuteTime": {
     "end_time": "2025-07-02T19:52:44.458516Z",
     "start_time": "2025-07-02T19:52:44.454536Z"
    }
   },
   "cell_type": "code",
   "source": [
    "import numpy as np\n",
    "import matplotlib.pyplot as plt\n",
    "import pandas as pd\n",
    "import seaborn as sns"
   ],
   "id": "9acf5801a317af50",
   "outputs": [],
   "execution_count": 8
  },
  {
   "metadata": {
    "ExecuteTime": {
     "end_time": "2025-07-02T19:52:44.696839Z",
     "start_time": "2025-07-02T19:52:44.484197Z"
    }
   },
   "cell_type": "code",
   "source": "data = pd.read_csv(r'D:\\Ola_Data_Analysis_Project\\OLA_Booking_Data\\booking_data.csv')",
   "id": "94ed1ea7ca0c9edb",
   "outputs": [],
   "execution_count": 9
  },
  {
   "metadata": {
    "ExecuteTime": {
     "end_time": "2025-07-02T19:52:44.727441Z",
     "start_time": "2025-07-02T19:52:44.702988Z"
    }
   },
   "cell_type": "code",
   "source": "df = data.copy()",
   "id": "9243c3b96633366",
   "outputs": [],
   "execution_count": 10
  },
  {
   "metadata": {
    "ExecuteTime": {
     "end_time": "2025-07-02T19:52:44.786312Z",
     "start_time": "2025-07-02T19:52:44.743218Z"
    }
   },
   "cell_type": "code",
   "source": [
    "print(df.head(10))\n",
    "print('-' * 100)\n",
    "print(df.tail(10))\n",
    "print('-' * 100)\n",
    "print(df.info())"
   ],
   "id": "886272acf2d71366",
   "outputs": [
    {
     "name": "stdout",
     "output_type": "stream",
     "text": [
      "       Date     Time  Booking ID       Booking Status Customer ID  \\\n",
      "0  6/1/2025  0:00:00  CNR7019659              Success    CID56465   \n",
      "1  6/1/2025  0:00:00  CNR7784516              Success    CID41109   \n",
      "2  6/1/2025  0:00:00  CNR1133821              Success    CID72820   \n",
      "3  6/1/2025  0:00:00  CNR8269117              Success    CID17191   \n",
      "4  6/1/2025  0:00:00  CNR6856424              Success    CID33669   \n",
      "5  6/1/2025  0:01:00  CNR6311388              Success    CID34966   \n",
      "6  6/1/2025  0:01:00  CNR5074489  Cancelled by Driver    CID88873   \n",
      "7  6/1/2025  0:01:00  CNR6066625  Cancelled by Driver    CID98098   \n",
      "8  6/1/2025  0:01:00  CNR5102876              Success    CID52872   \n",
      "9  6/1/2025  0:01:00  CNR1162009              Success    CID49651   \n",
      "\n",
      "  Vehicle Type Pickup Location Drop Location  Avg VTAT  Avg CTAT  \\\n",
      "0         Mini        Madhapur   Musheerabad      10.0      16.0   \n",
      "1         Auto      Kukatpally      Saidabad      12.0      18.0   \n",
      "2    Prime SUV   Santosh Nagar     Kachiguda      13.0       8.0   \n",
      "3    Prime SUV    Sanath Nagar       Miyapur       6.0      20.0   \n",
      "4         Auto    Narayanaguda      Nampally       8.0      20.0   \n",
      "5  Prime Sedan       Kachiguda    Malkajgiri       7.0       5.0   \n",
      "6         Mini       Charminar    LB Stadium       NaN       NaN   \n",
      "7        eBike      Kukatpally    Yousufguda       NaN       NaN   \n",
      "8  Prime Sedan          Nagole    LB Stadium       3.0       9.0   \n",
      "9         Bike        Nampally       Tarnaka      11.0       7.0   \n",
      "\n",
      "   Cancelled Rides by Customer Reason for cancelling by Customer  \\\n",
      "0                          NaN                               NaN   \n",
      "1                          NaN                               NaN   \n",
      "2                          NaN                               NaN   \n",
      "3                          NaN                               NaN   \n",
      "4                          NaN                               NaN   \n",
      "5                          NaN                               NaN   \n",
      "6                          NaN                               NaN   \n",
      "7                          NaN                               NaN   \n",
      "8                          NaN                               NaN   \n",
      "9                          NaN                               NaN   \n",
      "\n",
      "   Cancelled Rides by Driver Reason for cancelling by Driver  \\\n",
      "0                        NaN                             NaN   \n",
      "1                        NaN                             NaN   \n",
      "2                        NaN                             NaN   \n",
      "3                        NaN                             NaN   \n",
      "4                        NaN                             NaN   \n",
      "5                        NaN                             NaN   \n",
      "6                        1.0   Personal & Car related issues   \n",
      "7                        1.0   Personal & Car related issues   \n",
      "8                        NaN                             NaN   \n",
      "9                        NaN                             NaN   \n",
      "\n",
      "   Incomplete Rides Incomplete Rides Reason  Booking Value  Ride Distance  \\\n",
      "0               NaN                     NaN         347.27           8.01   \n",
      "1               NaN                     NaN         188.75          10.06   \n",
      "2               NaN                     NaN         538.13          19.33   \n",
      "3               NaN                     NaN         992.95           9.57   \n",
      "4               NaN                     NaN         433.04           6.98   \n",
      "5               NaN                     NaN         290.86          20.02   \n",
      "6               NaN                     NaN            NaN            NaN   \n",
      "7               NaN                     NaN            NaN            NaN   \n",
      "8               NaN                     NaN         219.79          10.25   \n",
      "9               NaN                     NaN         303.27          24.10   \n",
      "\n",
      "   Driver Ratings  Customer Rating  \n",
      "0             4.0              4.6  \n",
      "1             4.9              3.7  \n",
      "2             4.4              4.4  \n",
      "3             4.7              3.0  \n",
      "4             4.9              4.1  \n",
      "5             4.5              3.1  \n",
      "6             NaN              NaN  \n",
      "7             NaN              NaN  \n",
      "8             3.9              3.6  \n",
      "9             3.5              4.0  \n",
      "----------------------------------------------------------------------------------------------------\n",
      "            Date      Time  Booking ID         Booking Status Customer ID  \\\n",
      "99990  6/30/2025  23:51:00  CNR5748780    Cancelled by Driver    CID15472   \n",
      "99991  6/30/2025  23:51:00  CNR5943475                Success    CID15550   \n",
      "99992  6/30/2025  23:52:00  CNR4874186  Cancelled by Customer    CID31447   \n",
      "99993  6/30/2025  23:52:00  CNR9600279             Incomplete    CID81996   \n",
      "99994  6/30/2025  23:52:00  CNR7201581                Success    CID26721   \n",
      "99995  6/30/2025  23:53:00  CNR3997712                Success    CID98515   \n",
      "99996  6/30/2025  23:53:00  CNR4705219                Success    CID64682   \n",
      "99997  6/30/2025  23:53:00  CNR5251266                Success    CID38687   \n",
      "99998  6/30/2025  23:54:00  CNR8504131                Success    CID13067   \n",
      "99999  6/30/2025  23:58:00  CNR5448150                Success    CID51205   \n",
      "\n",
      "      Vehicle Type Pickup Location  Drop Location  Avg VTAT  Avg CTAT  \\\n",
      "99990  Prime Sedan           Abids  Jubilee Hills       NaN       NaN   \n",
      "99991         Auto      Gachibowli          Uppal      13.0      18.0   \n",
      "99992         Auto          Nagole      Kachiguda       NaN       NaN   \n",
      "99993    Prime SUV     Mehdipatnam       Ameerpet       NaN       NaN   \n",
      "99994         Mini      Beeramguda          Alwal      15.0       8.0   \n",
      "99995         Auto        Ameerpet  Jubilee Hills      13.0      19.0   \n",
      "99996         Bike            ECIL       Kompally       5.0       7.0   \n",
      "99997   Prime Plus     Musheerabad      Charminar      10.0      19.0   \n",
      "99998    Prime SUV   Jubilee Hills    Khairatabad      12.0       7.0   \n",
      "99999        eBike     Khairatabad       Kompally      11.0       2.0   \n",
      "\n",
      "       Cancelled Rides by Customer Reason for cancelling by Customer  \\\n",
      "99990                          NaN                               NaN   \n",
      "99991                          NaN                               NaN   \n",
      "99992                          1.0            Driver asked to cancel   \n",
      "99993                          NaN                               NaN   \n",
      "99994                          NaN                               NaN   \n",
      "99995                          NaN                               NaN   \n",
      "99996                          NaN                               NaN   \n",
      "99997                          NaN                               NaN   \n",
      "99998                          NaN                               NaN   \n",
      "99999                          NaN                               NaN   \n",
      "\n",
      "       Cancelled Rides by Driver Reason for cancelling by Driver  \\\n",
      "99990                        1.0  The customer was coughing/sick   \n",
      "99991                        NaN                             NaN   \n",
      "99992                        NaN                             NaN   \n",
      "99993                        NaN                             NaN   \n",
      "99994                        NaN                             NaN   \n",
      "99995                        NaN                             NaN   \n",
      "99996                        NaN                             NaN   \n",
      "99997                        NaN                             NaN   \n",
      "99998                        NaN                             NaN   \n",
      "99999                        NaN                             NaN   \n",
      "\n",
      "       Incomplete Rides Incomplete Rides Reason  Booking Value  Ride Distance  \\\n",
      "99990               NaN                     NaN            NaN            NaN   \n",
      "99991               NaN                     NaN         157.31          13.83   \n",
      "99992               NaN                     NaN            NaN            NaN   \n",
      "99993               1.0       Vehicle Breakdown            NaN            NaN   \n",
      "99994               NaN                     NaN         279.63          14.53   \n",
      "99995               NaN                     NaN         278.71          20.89   \n",
      "99996               NaN                     NaN         751.67           4.08   \n",
      "99997               NaN                     NaN         308.45          16.56   \n",
      "99998               NaN                     NaN         226.30          15.08   \n",
      "99999               NaN                     NaN         553.72           5.31   \n",
      "\n",
      "       Driver Ratings  Customer Rating  \n",
      "99990             NaN              NaN  \n",
      "99991             3.1              4.3  \n",
      "99992             NaN              NaN  \n",
      "99993             NaN              NaN  \n",
      "99994             4.0              3.2  \n",
      "99995             4.6              4.5  \n",
      "99996             3.2              4.0  \n",
      "99997             4.0              4.7  \n",
      "99998             4.8              4.5  \n",
      "99999             3.0              4.1  \n",
      "----------------------------------------------------------------------------------------------------\n",
      "<class 'pandas.core.frame.DataFrame'>\n",
      "RangeIndex: 100000 entries, 0 to 99999\n",
      "Data columns (total 20 columns):\n",
      " #   Column                             Non-Null Count   Dtype  \n",
      "---  ------                             --------------   -----  \n",
      " 0   Date                               100000 non-null  object \n",
      " 1   Time                               100000 non-null  object \n",
      " 2   Booking ID                         100000 non-null  object \n",
      " 3   Booking Status                     100000 non-null  object \n",
      " 4   Customer ID                        100000 non-null  object \n",
      " 5   Vehicle Type                       100000 non-null  object \n",
      " 6   Pickup Location                    100000 non-null  object \n",
      " 7   Drop Location                      100000 non-null  object \n",
      " 8   Avg VTAT                           67561 non-null   float64\n",
      " 9   Avg CTAT                           67561 non-null   float64\n",
      " 10  Cancelled Rides by Customer        7498 non-null    float64\n",
      " 11  Reason for cancelling by Customer  7498 non-null    object \n",
      " 12  Cancelled Rides by Driver          19442 non-null   float64\n",
      " 13  Reason for cancelling by Driver    19442 non-null   object \n",
      " 14  Incomplete Rides                   5499 non-null    float64\n",
      " 15  Incomplete Rides Reason            5499 non-null    object \n",
      " 16  Booking Value                      67561 non-null   float64\n",
      " 17  Ride Distance                      67561 non-null   float64\n",
      " 18  Driver Ratings                     67561 non-null   float64\n",
      " 19  Customer Rating                    67561 non-null   float64\n",
      "dtypes: float64(9), object(11)\n",
      "memory usage: 15.3+ MB\n",
      "None\n"
     ]
    }
   ],
   "execution_count": 11
  },
  {
   "metadata": {
    "ExecuteTime": {
     "end_time": "2025-07-02T19:52:44.839359Z",
     "start_time": "2025-07-02T19:52:44.815375Z"
    }
   },
   "cell_type": "code",
   "source": [
    "# Fill nulls using mean (floored) for columns with symmetric distribution\n",
    "for col in ['Avg VTAT', 'Avg CTAT', 'Ride Distance', 'Driver Ratings', 'Customer Rating']:\n",
    "    if df[col].isnull().any():\n",
    "        # Calculate mean, then apply floor to round down to the nearest integer\n",
    "        floored_mean = np.floor(df[col].mean())\n",
    "        df[col].fillna(floored_mean, inplace=True)\n",
    "\n",
    "# Fill nulls using median (floored) for 'Booking Value' due to its skewed distribution\n",
    "if df['Booking Value'].isnull().any():\n",
    "    # Calculate median, then apply floor to round down to the nearest integer\n",
    "    floored_median = np.floor(df['Booking Value'].median())\n",
    "    df['Booking Value'].fillna(floored_median, inplace=True)\n",
    "\n",
    "# Verify that null values have been filled for these columns\n",
    "print(\"Null counts after imputation:\")\n",
    "print(df[['Avg VTAT', 'Avg CTAT', 'Booking Value', 'Ride Distance', 'Driver Ratings', 'Customer Rating']].isnull().sum())"
   ],
   "id": "131a8bcdc8e8e831",
   "outputs": [
    {
     "name": "stdout",
     "output_type": "stream",
     "text": [
      "Null counts after imputation:\n",
      "Avg VTAT           0\n",
      "Avg CTAT           0\n",
      "Booking Value      0\n",
      "Ride Distance      0\n",
      "Driver Ratings     0\n",
      "Customer Rating    0\n",
      "dtype: int64\n"
     ]
    },
    {
     "name": "stderr",
     "output_type": "stream",
     "text": [
      "C:\\Users\\Mohan Abhijeeth\\AppData\\Local\\Temp\\ipykernel_18232\\2521510401.py:6: FutureWarning: A value is trying to be set on a copy of a DataFrame or Series through chained assignment using an inplace method.\n",
      "The behavior will change in pandas 3.0. This inplace method will never work because the intermediate object on which we are setting values always behaves as a copy.\n",
      "\n",
      "For example, when doing 'df[col].method(value, inplace=True)', try using 'df.method({col: value}, inplace=True)' or df[col] = df[col].method(value) instead, to perform the operation inplace on the original object.\n",
      "\n",
      "\n",
      "  df[col].fillna(floored_mean, inplace=True)\n",
      "C:\\Users\\Mohan Abhijeeth\\AppData\\Local\\Temp\\ipykernel_18232\\2521510401.py:12: FutureWarning: A value is trying to be set on a copy of a DataFrame or Series through chained assignment using an inplace method.\n",
      "The behavior will change in pandas 3.0. This inplace method will never work because the intermediate object on which we are setting values always behaves as a copy.\n",
      "\n",
      "For example, when doing 'df[col].method(value, inplace=True)', try using 'df.method({col: value}, inplace=True)' or df[col] = df[col].method(value) instead, to perform the operation inplace on the original object.\n",
      "\n",
      "\n",
      "  df['Booking Value'].fillna(floored_median, inplace=True)\n"
     ]
    }
   ],
   "execution_count": 12
  },
  {
   "metadata": {
    "ExecuteTime": {
     "end_time": "2025-07-02T19:52:44.906787Z",
     "start_time": "2025-07-02T19:52:44.852219Z"
    }
   },
   "cell_type": "code",
   "source": [
    "# --- Imputation for 'Cancelled Rides' and 'Incomplete Rides' related columns ---\n",
    "\n",
    "# Fill nulls in numerical 'count' columns with 0\n",
    "# A null in these often means the event did not occur.\n",
    "for col in ['Cancelled Rides by Customer', 'Cancelled Rides by Driver', 'Incomplete Rides']:\n",
    "    if df[col].isnull().any():\n",
    "        df[col].fillna(0, inplace=True)\n",
    "\n",
    "# Fill nulls in categorical 'reason' columns with 'Not Applicable'\n",
    "# This marks instances where no reason was recorded because the event didn't happen.\n",
    "for col in ['Reason for cancelling by Customer', 'Reason for cancelling by Driver', 'Incomplete Rides Reason']:\n",
    "    if df[col].isnull().any():\n",
    "        df[col].fillna('Not Applicable', inplace=True)\n",
    "\n",
    "# Verify that null values have been filled for all targeted columns\n",
    "print(\"Null counts after all imputations:\")\n",
    "print(df.isnull().sum())"
   ],
   "id": "43376ea288a8d1ea",
   "outputs": [
    {
     "name": "stdout",
     "output_type": "stream",
     "text": [
      "Null counts after all imputations:\n",
      "Date                                 0\n",
      "Time                                 0\n",
      "Booking ID                           0\n",
      "Booking Status                       0\n",
      "Customer ID                          0\n",
      "Vehicle Type                         0\n",
      "Pickup Location                      0\n",
      "Drop Location                        0\n",
      "Avg VTAT                             0\n",
      "Avg CTAT                             0\n",
      "Cancelled Rides by Customer          0\n",
      "Reason for cancelling by Customer    0\n",
      "Cancelled Rides by Driver            0\n",
      "Reason for cancelling by Driver      0\n",
      "Incomplete Rides                     0\n",
      "Incomplete Rides Reason              0\n",
      "Booking Value                        0\n",
      "Ride Distance                        0\n",
      "Driver Ratings                       0\n",
      "Customer Rating                      0\n",
      "dtype: int64\n"
     ]
    },
    {
     "name": "stderr",
     "output_type": "stream",
     "text": [
      "C:\\Users\\Mohan Abhijeeth\\AppData\\Local\\Temp\\ipykernel_18232\\4088231308.py:7: FutureWarning: A value is trying to be set on a copy of a DataFrame or Series through chained assignment using an inplace method.\n",
      "The behavior will change in pandas 3.0. This inplace method will never work because the intermediate object on which we are setting values always behaves as a copy.\n",
      "\n",
      "For example, when doing 'df[col].method(value, inplace=True)', try using 'df.method({col: value}, inplace=True)' or df[col] = df[col].method(value) instead, to perform the operation inplace on the original object.\n",
      "\n",
      "\n",
      "  df[col].fillna(0, inplace=True)\n",
      "C:\\Users\\Mohan Abhijeeth\\AppData\\Local\\Temp\\ipykernel_18232\\4088231308.py:13: FutureWarning: A value is trying to be set on a copy of a DataFrame or Series through chained assignment using an inplace method.\n",
      "The behavior will change in pandas 3.0. This inplace method will never work because the intermediate object on which we are setting values always behaves as a copy.\n",
      "\n",
      "For example, when doing 'df[col].method(value, inplace=True)', try using 'df.method({col: value}, inplace=True)' or df[col] = df[col].method(value) instead, to perform the operation inplace on the original object.\n",
      "\n",
      "\n",
      "  df[col].fillna('Not Applicable', inplace=True)\n"
     ]
    }
   ],
   "execution_count": 13
  },
  {
   "metadata": {
    "ExecuteTime": {
     "end_time": "2025-07-02T19:52:44.995224Z",
     "start_time": "2025-07-02T19:52:44.992322Z"
    }
   },
   "cell_type": "code",
   "source": [
    "#df.to_csv(r'OLA_Booking_Data\\booking_data_cleaned.csv', index=False)\n",
    "\n",
    "#print(\"Changes saved to 'booking_data_cleaned.csv' successfully.\")"
   ],
   "id": "2d1b29af0f2855c1",
   "outputs": [],
   "execution_count": 14
  },
  {
   "metadata": {
    "ExecuteTime": {
     "end_time": "2025-07-02T19:53:09.953041Z",
     "start_time": "2025-07-02T19:53:09.949392Z"
    }
   },
   "cell_type": "code",
   "source": [
    "# THIS BIT OF CODE IS ESSENTIAL TO KNOW THE SHAPE OF OUR DATAFRAME(ACTUAL DATASET BEFORE CONVERSION)\n",
    "print(\"No of Rows in this dataset - \", len(df))\n",
    "print(\"-\" * 50)\n",
    "print(\"No of Columns in this dataset - \", df.shape[1])\n",
    "print(\"-\" * 50)\n",
    "print(\"Size of this dataset - \", df.shape)"
   ],
   "id": "d55d4ff03e6e23b9",
   "outputs": [
    {
     "name": "stdout",
     "output_type": "stream",
     "text": [
      "No of Rows in this dataset -  100000\n",
      "--------------------------------------------------\n",
      "No of Columns in this dataset -  20\n",
      "--------------------------------------------------\n",
      "Size of this dataset -  (100000, 20)\n"
     ]
    }
   ],
   "execution_count": 15
  },
  {
   "metadata": {
    "ExecuteTime": {
     "end_time": "2025-07-02T19:53:30.574182Z",
     "start_time": "2025-07-02T19:53:30.474233Z"
    }
   },
   "cell_type": "code",
   "source": [
    "# THIS BIT OF CODE IS ESSENTIAL TO KNOW THE COUNT OF UNIQUE VALUES FROM EVERY ATTRIBUTE\n",
    "print(df.nunique())"
   ],
   "id": "2b50108079a7f103",
   "outputs": [
    {
     "name": "stdout",
     "output_type": "stream",
     "text": [
      "Date                                    30\n",
      "Time                                  1440\n",
      "Booking ID                           99483\n",
      "Booking Status                           4\n",
      "Customer ID                          60488\n",
      "Vehicle Type                             7\n",
      "Pickup Location                         50\n",
      "Drop Location                           50\n",
      "Avg VTAT                                14\n",
      "Avg CTAT                                19\n",
      "Cancelled Rides by Customer              2\n",
      "Reason for cancelling by Customer        6\n",
      "Cancelled Rides by Driver                2\n",
      "Reason for cancelling by Driver          5\n",
      "Incomplete Rides                         2\n",
      "Incomplete Rides Reason                  4\n",
      "Booking Value                        46258\n",
      "Ride Distance                         2401\n",
      "Driver Ratings                          21\n",
      "Customer Rating                         21\n",
      "dtype: int64\n"
     ]
    }
   ],
   "execution_count": 16
  },
  {
   "metadata": {},
   "cell_type": "code",
   "outputs": [],
   "execution_count": null,
   "source": "",
   "id": "79b25234d9517099"
  }
 ],
 "metadata": {
  "kernelspec": {
   "name": "python3",
   "language": "python",
   "display_name": "Python 3 (ipykernel)"
  }
 },
 "nbformat": 5,
 "nbformat_minor": 9
}
